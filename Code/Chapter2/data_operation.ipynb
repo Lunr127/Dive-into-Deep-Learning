{
 "cells": [
  {
   "cell_type": "code",
   "execution_count": 2,
   "metadata": {},
   "outputs": [],
   "source": [
    "import torch"
   ]
  },
  {
   "cell_type": "code",
   "execution_count": 3,
   "metadata": {},
   "outputs": [
    {
     "data": {
      "text/plain": [
       "(tensor([[[ 0,  1,  2,  3],\n",
       "          [ 4,  5,  6,  7],\n",
       "          [ 8,  9, 10, 11],\n",
       "          [12, 13, 14, 15],\n",
       "          [16, 17, 18, 19]],\n",
       " \n",
       "         [[20, 21, 22, 23],\n",
       "          [24, 25, 26, 27],\n",
       "          [28, 29, 30, 31],\n",
       "          [32, 33, 34, 35],\n",
       "          [36, 37, 38, 39]],\n",
       " \n",
       "         [[40, 41, 42, 43],\n",
       "          [44, 45, 46, 47],\n",
       "          [48, 49, 50, 51],\n",
       "          [52, 53, 54, 55],\n",
       "          [56, 57, 58, 59]]]),\n",
       " torch.Size([3, 5, 4]),\n",
       " tensor(1770))"
      ]
     },
     "execution_count": 3,
     "metadata": {},
     "output_type": "execute_result"
    }
   ],
   "source": [
    "A = torch.arange(20*3).reshape(3, 5, 4)\n",
    "A, A.shape, A.sum()"
   ]
  },
  {
   "cell_type": "code",
   "execution_count": 4,
   "metadata": {},
   "outputs": [
    {
     "data": {
      "text/plain": [
       "(tensor([[  6,  22,  38,  54,  70],\n",
       "         [ 86, 102, 118, 134, 150],\n",
       "         [166, 182, 198, 214, 230]]),\n",
       " torch.Size([3, 5]))"
      ]
     },
     "execution_count": 4,
     "metadata": {},
     "output_type": "execute_result"
    }
   ],
   "source": [
    "A_sum_axis = A.sum(axis=2)\n",
    "A_sum_axis, A_sum_axis.shape"
   ]
  },
  {
   "cell_type": "code",
   "execution_count": 6,
   "metadata": {},
   "outputs": [
    {
     "data": {
      "text/plain": [
       "tensor([[[  0,   1,   2,   3],\n",
       "         [  4,   5,   6,   7],\n",
       "         [  8,   9,  10,  11],\n",
       "         [ 12,  13,  14,  15],\n",
       "         [ 16,  17,  18,  19]],\n",
       "\n",
       "        [[ 20,  22,  24,  26],\n",
       "         [ 28,  30,  32,  34],\n",
       "         [ 36,  38,  40,  42],\n",
       "         [ 44,  46,  48,  50],\n",
       "         [ 52,  54,  56,  58]],\n",
       "\n",
       "        [[ 60,  63,  66,  69],\n",
       "         [ 72,  75,  78,  81],\n",
       "         [ 84,  87,  90,  93],\n",
       "         [ 96,  99, 102, 105],\n",
       "         [108, 111, 114, 117]]])"
      ]
     },
     "execution_count": 6,
     "metadata": {},
     "output_type": "execute_result"
    }
   ],
   "source": [
    "A.cumsum(axis=0)"
   ]
  }
 ],
 "metadata": {
  "kernelspec": {
   "display_name": "d2l",
   "language": "python",
   "name": "python3"
  },
  "language_info": {
   "codemirror_mode": {
    "name": "ipython",
    "version": 3
   },
   "file_extension": ".py",
   "mimetype": "text/x-python",
   "name": "python",
   "nbconvert_exporter": "python",
   "pygments_lexer": "ipython3",
   "version": "3.8.17"
  }
 },
 "nbformat": 4,
 "nbformat_minor": 2
}
